{
 "cells": [
  {
   "cell_type": "code",
   "execution_count": 1,
   "metadata": {},
   "outputs": [
    {
     "name": "stdout",
     "output_type": "stream",
     "text": [
      "Collecting pandas\n",
      "  Using cached pandas-2.2.2-cp39-cp39-win_amd64.whl.metadata (19 kB)\n",
      "Collecting numpy>=1.22.4 (from pandas)\n",
      "  Using cached numpy-1.26.4-cp39-cp39-win_amd64.whl.metadata (61 kB)\n",
      "Collecting python-dateutil>=2.8.2 (from pandas)\n",
      "  Using cached python_dateutil-2.9.0.post0-py2.py3-none-any.whl.metadata (8.4 kB)\n",
      "Collecting pytz>=2020.1 (from pandas)\n",
      "  Using cached pytz-2024.1-py2.py3-none-any.whl.metadata (22 kB)\n",
      "Collecting tzdata>=2022.7 (from pandas)\n",
      "  Using cached tzdata-2024.1-py2.py3-none-any.whl.metadata (1.4 kB)\n",
      "Collecting six>=1.5 (from python-dateutil>=2.8.2->pandas)\n",
      "  Using cached six-1.16.0-py2.py3-none-any.whl.metadata (1.8 kB)\n",
      "Using cached pandas-2.2.2-cp39-cp39-win_amd64.whl (11.6 MB)\n",
      "Using cached numpy-1.26.4-cp39-cp39-win_amd64.whl (15.8 MB)\n",
      "Using cached python_dateutil-2.9.0.post0-py2.py3-none-any.whl (229 kB)\n",
      "Using cached pytz-2024.1-py2.py3-none-any.whl (505 kB)\n",
      "Using cached tzdata-2024.1-py2.py3-none-any.whl (345 kB)\n",
      "Using cached six-1.16.0-py2.py3-none-any.whl (11 kB)\n",
      "Installing collected packages: pytz, tzdata, six, numpy, python-dateutil, pandas\n",
      "Successfully installed numpy pandas python-dateutil pytz six tzdata\n",
      "Note: you may need to restart the kernel to use updated packages.\n"
     ]
    }
   ],
   "source": [
    "%pip install pandas"
   ]
  },
  {
   "cell_type": "code",
   "execution_count": 8,
   "metadata": {},
   "outputs": [
    {
     "name": "stdout",
     "output_type": "stream",
     "text": [
      "Collecting dask[complete]Note: you may need to restart the kernel to use updated packages.\n",
      "\n",
      "  Downloading dask-2024.5.2-py3-none-any.whl.metadata (3.8 kB)\n",
      "Collecting click>=8.1 (from dask[complete])\n",
      "  Downloading click-8.1.7-py3-none-any.whl.metadata (3.0 kB)\n",
      "Collecting cloudpickle>=1.5.0 (from dask[complete])\n",
      "  Downloading cloudpickle-3.0.0-py3-none-any.whl.metadata (7.0 kB)\n",
      "Collecting fsspec>=2021.09.0 (from dask[complete])\n",
      "  Downloading fsspec-2024.6.0-py3-none-any.whl.metadata (11 kB)\n",
      "Collecting packaging>=20.0 (from dask[complete])\n",
      "  Using cached packaging-24.0-py3-none-any.whl.metadata (3.2 kB)\n",
      "Collecting partd>=1.2.0 (from dask[complete])\n",
      "  Downloading partd-1.4.2-py3-none-any.whl.metadata (4.6 kB)\n",
      "Collecting pyyaml>=5.3.1 (from dask[complete])\n",
      "  Downloading PyYAML-6.0.1-cp39-cp39-win_amd64.whl.metadata (2.1 kB)\n",
      "Collecting toolz>=0.10.0 (from dask[complete])\n",
      "  Downloading toolz-0.12.1-py3-none-any.whl.metadata (5.1 kB)\n",
      "Collecting importlib-metadata>=4.13.0 (from dask[complete])\n",
      "  Using cached importlib_metadata-7.1.0-py3-none-any.whl.metadata (4.7 kB)\n",
      "Collecting pyarrow>=7.0 (from dask[complete])\n",
      "  Downloading pyarrow-16.1.0-cp39-cp39-win_amd64.whl.metadata (3.1 kB)\n",
      "Collecting pyarrow-hotfix (from dask[complete])\n",
      "  Downloading pyarrow_hotfix-0.6-py3-none-any.whl.metadata (3.6 kB)\n",
      "Collecting lz4>=4.3.2 (from dask[complete])\n",
      "  Downloading lz4-4.3.3-cp39-cp39-win_amd64.whl.metadata (3.8 kB)\n",
      "Collecting colorama (from click>=8.1->dask[complete])\n",
      "  Using cached colorama-0.4.6-py2.py3-none-any.whl.metadata (17 kB)\n",
      "Collecting zipp>=0.5 (from importlib-metadata>=4.13.0->dask[complete])\n",
      "  Using cached zipp-3.19.1-py3-none-any.whl.metadata (3.5 kB)\n",
      "Collecting locket (from partd>=1.2.0->dask[complete])\n",
      "  Downloading locket-1.0.0-py2.py3-none-any.whl.metadata (2.8 kB)\n",
      "Collecting numpy>=1.16.6 (from pyarrow>=7.0->dask[complete])\n",
      "  Using cached numpy-1.26.4-cp39-cp39-win_amd64.whl.metadata (61 kB)\n",
      "Collecting distributed==2024.5.2 (from dask[complete])\n",
      "  Downloading distributed-2024.5.2-py3-none-any.whl.metadata (3.4 kB)\n",
      "Collecting pandas>=1.3 (from dask[complete])\n",
      "  Using cached pandas-2.2.2-cp39-cp39-win_amd64.whl.metadata (19 kB)\n",
      "Collecting dask-expr<1.2,>=1.1 (from dask[complete])\n",
      "  Downloading dask_expr-1.1.2-py3-none-any.whl.metadata (2.4 kB)\n",
      "Collecting bokeh>=2.4.2 (from dask[complete])\n",
      "  Downloading bokeh-3.4.1-py3-none-any.whl.metadata (12 kB)\n",
      "Collecting jinja2>=2.10.3 (from dask[complete])\n",
      "  Downloading jinja2-3.1.4-py3-none-any.whl.metadata (2.6 kB)\n",
      "Collecting msgpack>=1.0.0 (from distributed==2024.5.2->dask[complete])\n",
      "  Downloading msgpack-1.0.8-cp39-cp39-win_amd64.whl.metadata (9.4 kB)\n",
      "Collecting psutil>=5.7.2 (from distributed==2024.5.2->dask[complete])\n",
      "  Using cached psutil-5.9.8-cp37-abi3-win_amd64.whl.metadata (22 kB)\n",
      "Collecting sortedcontainers>=2.0.5 (from distributed==2024.5.2->dask[complete])\n",
      "  Downloading sortedcontainers-2.4.0-py2.py3-none-any.whl.metadata (10 kB)\n",
      "Collecting tblib>=1.6.0 (from distributed==2024.5.2->dask[complete])\n",
      "  Downloading tblib-3.0.0-py3-none-any.whl.metadata (25 kB)\n",
      "Collecting tornado>=6.0.4 (from distributed==2024.5.2->dask[complete])\n",
      "  Using cached tornado-6.4-cp38-abi3-win_amd64.whl.metadata (2.6 kB)\n",
      "Collecting urllib3>=1.24.3 (from distributed==2024.5.2->dask[complete])\n",
      "  Downloading urllib3-2.2.1-py3-none-any.whl.metadata (6.4 kB)\n",
      "Collecting zict>=3.0.0 (from distributed==2024.5.2->dask[complete])\n",
      "  Downloading zict-3.0.0-py2.py3-none-any.whl.metadata (899 bytes)\n",
      "Collecting contourpy>=1.2 (from bokeh>=2.4.2->dask[complete])\n",
      "  Downloading contourpy-1.2.1-cp39-cp39-win_amd64.whl.metadata (5.8 kB)\n",
      "Collecting pillow>=7.1.0 (from bokeh>=2.4.2->dask[complete])\n",
      "  Downloading pillow-10.3.0-cp39-cp39-win_amd64.whl.metadata (9.4 kB)\n",
      "Collecting xyzservices>=2021.09.1 (from bokeh>=2.4.2->dask[complete])\n",
      "  Downloading xyzservices-2024.4.0-py3-none-any.whl.metadata (4.0 kB)\n",
      "Collecting MarkupSafe>=2.0 (from jinja2>=2.10.3->dask[complete])\n",
      "  Downloading MarkupSafe-2.1.5-cp39-cp39-win_amd64.whl.metadata (3.1 kB)\n",
      "Collecting python-dateutil>=2.8.2 (from pandas>=1.3->dask[complete])\n",
      "  Using cached python_dateutil-2.9.0.post0-py2.py3-none-any.whl.metadata (8.4 kB)\n",
      "Collecting pytz>=2020.1 (from pandas>=1.3->dask[complete])\n",
      "  Using cached pytz-2024.1-py2.py3-none-any.whl.metadata (22 kB)\n",
      "Collecting tzdata>=2022.7 (from pandas>=1.3->dask[complete])\n",
      "  Using cached tzdata-2024.1-py2.py3-none-any.whl.metadata (1.4 kB)\n",
      "Collecting six>=1.5 (from python-dateutil>=2.8.2->pandas>=1.3->dask[complete])\n",
      "  Using cached six-1.16.0-py2.py3-none-any.whl.metadata (1.8 kB)\n",
      "Downloading click-8.1.7-py3-none-any.whl (97 kB)\n",
      "   ---------------------------------------- 0.0/97.9 kB ? eta -:--:--\n",
      "   ---------------------------------------- 97.9/97.9 kB 2.8 MB/s eta 0:00:00\n",
      "Downloading cloudpickle-3.0.0-py3-none-any.whl (20 kB)\n",
      "Downloading fsspec-2024.6.0-py3-none-any.whl (176 kB)\n",
      "   ---------------------------------------- 0.0/176.9 kB ? eta -:--:--\n",
      "   --------------------------------------- 176.9/176.9 kB 10.4 MB/s eta 0:00:00\n",
      "Using cached importlib_metadata-7.1.0-py3-none-any.whl (24 kB)\n",
      "Downloading lz4-4.3.3-cp39-cp39-win_amd64.whl (99 kB)\n",
      "   ---------------------------------------- 0.0/99.8 kB ? eta -:--:--\n",
      "   ---------------------------------------- 99.8/99.8 kB 5.6 MB/s eta 0:00:00\n",
      "Using cached packaging-24.0-py3-none-any.whl (53 kB)\n",
      "Downloading partd-1.4.2-py3-none-any.whl (18 kB)\n",
      "Downloading pyarrow-16.1.0-cp39-cp39-win_amd64.whl (25.9 MB)\n",
      "   ---------------------------------------- 0.0/25.9 MB ? eta -:--:--\n",
      "   --- ------------------------------------ 2.2/25.9 MB 34.6 MB/s eta 0:00:01\n",
      "   ----- ---------------------------------- 3.7/25.9 MB 33.5 MB/s eta 0:00:01\n",
      "   --------- ------------------------------ 6.0/25.9 MB 38.2 MB/s eta 0:00:01\n",
      "   ----------- ---------------------------- 7.2/25.9 MB 38.1 MB/s eta 0:00:01\n",
      "   ------------- -------------------------- 8.5/25.9 MB 30.0 MB/s eta 0:00:01\n",
      "   -------------- ------------------------- 9.3/25.9 MB 27.0 MB/s eta 0:00:01\n",
      "   ---------------- ----------------------- 10.6/25.9 MB 27.3 MB/s eta 0:00:01\n",
      "   ----------------- ---------------------- 11.5/25.9 MB 25.2 MB/s eta 0:00:01\n",
      "   ------------------- -------------------- 12.9/25.9 MB 24.3 MB/s eta 0:00:01\n",
      "   ----------------------- ---------------- 14.9/25.9 MB 24.2 MB/s eta 0:00:01\n",
      "   -------------------------- ------------- 17.1/25.9 MB 23.4 MB/s eta 0:00:01\n",
      "   ----------------------------- ---------- 18.8/25.9 MB 29.7 MB/s eta 0:00:01\n",
      "   -------------------------------- ------- 21.1/25.9 MB 36.3 MB/s eta 0:00:01\n",
      "   ------------------------------------- -- 24.3/25.9 MB 43.7 MB/s eta 0:00:01\n",
      "   ---------------------------------------  25.9/25.9 MB 46.7 MB/s eta 0:00:01\n",
      "   ---------------------------------------  25.9/25.9 MB 46.7 MB/s eta 0:00:01\n",
      "   ---------------------------------------  25.9/25.9 MB 46.7 MB/s eta 0:00:01\n",
      "   ---------------------------------------- 25.9/25.9 MB 27.3 MB/s eta 0:00:00\n",
      "Downloading PyYAML-6.0.1-cp39-cp39-win_amd64.whl (152 kB)\n",
      "   ---------------------------------------- 0.0/152.8 kB ? eta -:--:--\n",
      "   ---------------------------------------- 152.8/152.8 kB ? eta 0:00:00\n",
      "Downloading toolz-0.12.1-py3-none-any.whl (56 kB)\n",
      "   ---------------------------------------- 0.0/56.1 kB ? eta -:--:--\n",
      "   ---------------------------------------- 56.1/56.1 kB 3.1 MB/s eta 0:00:00\n",
      "Downloading dask-2024.5.2-py3-none-any.whl (1.2 MB)\n",
      "   ---------------------------------------- 0.0/1.2 MB ? eta -:--:--\n",
      "   ---------------------------------------- 1.2/1.2 MB 39.4 MB/s eta 0:00:00\n",
      "Downloading distributed-2024.5.2-py3-none-any.whl (1.0 MB)\n",
      "   ---------------------------------------- 0.0/1.0 MB ? eta -:--:--\n",
      "   ---------------------------- ----------- 0.7/1.0 MB 22.1 MB/s eta 0:00:01\n",
      "   ---------------------------------------- 1.0/1.0 MB 8.0 MB/s eta 0:00:00\n",
      "Downloading pyarrow_hotfix-0.6-py3-none-any.whl (7.9 kB)\n",
      "Downloading bokeh-3.4.1-py3-none-any.whl (7.0 MB)\n",
      "   ---------------------------------------- 0.0/7.0 MB ? eta -:--:--\n",
      "   ---------------- ----------------------- 2.9/7.0 MB 61.7 MB/s eta 0:00:01\n",
      "   ---------------------------------------  7.0/7.0 MB 88.5 MB/s eta 0:00:01\n",
      "   ---------------------------------------  7.0/7.0 MB 88.5 MB/s eta 0:00:01\n",
      "   ---------------------------------------- 7.0/7.0 MB 49.6 MB/s eta 0:00:00\n",
      "Downloading dask_expr-1.1.2-py3-none-any.whl (205 kB)\n",
      "   ---------------------------------------- 0.0/205.5 kB ? eta -:--:--\n",
      "   --------------------------------------- 205.5/205.5 kB 12.2 MB/s eta 0:00:00\n",
      "Downloading jinja2-3.1.4-py3-none-any.whl (133 kB)\n",
      "   ---------------------------------------- 0.0/133.3 kB ? eta -:--:--\n",
      "   ---------------------------------------- 133.3/133.3 kB ? eta 0:00:00\n",
      "Downloading locket-1.0.0-py2.py3-none-any.whl (4.4 kB)\n",
      "Using cached numpy-1.26.4-cp39-cp39-win_amd64.whl (15.8 MB)\n",
      "Using cached pandas-2.2.2-cp39-cp39-win_amd64.whl (11.6 MB)\n",
      "Using cached zipp-3.19.1-py3-none-any.whl (9.0 kB)\n",
      "Using cached colorama-0.4.6-py2.py3-none-any.whl (25 kB)\n",
      "Downloading contourpy-1.2.1-cp39-cp39-win_amd64.whl (182 kB)\n",
      "   ---------------------------------------- 0.0/182.8 kB ? eta -:--:--\n",
      "   --------------------------------------- 182.8/182.8 kB 11.5 MB/s eta 0:00:00\n",
      "Downloading MarkupSafe-2.1.5-cp39-cp39-win_amd64.whl (17 kB)\n",
      "Downloading msgpack-1.0.8-cp39-cp39-win_amd64.whl (75 kB)\n",
      "   ---------------------------------------- 0.0/75.1 kB ? eta -:--:--\n",
      "   ---------------------------------------- 75.1/75.1 kB ? eta 0:00:00\n",
      "Downloading pillow-10.3.0-cp39-cp39-win_amd64.whl (2.5 MB)\n",
      "   ---------------------------------------- 0.0/2.5 MB ? eta -:--:--\n",
      "   ---------------------------------------  2.5/2.5 MB 81.3 MB/s eta 0:00:01\n",
      "   ---------------------------------------- 2.5/2.5 MB 53.6 MB/s eta 0:00:00\n",
      "Using cached psutil-5.9.8-cp37-abi3-win_amd64.whl (255 kB)\n",
      "Using cached python_dateutil-2.9.0.post0-py2.py3-none-any.whl (229 kB)\n",
      "Using cached pytz-2024.1-py2.py3-none-any.whl (505 kB)\n",
      "Downloading sortedcontainers-2.4.0-py2.py3-none-any.whl (29 kB)\n",
      "Downloading tblib-3.0.0-py3-none-any.whl (12 kB)\n",
      "Using cached tornado-6.4-cp38-abi3-win_amd64.whl (436 kB)\n",
      "Using cached tzdata-2024.1-py2.py3-none-any.whl (345 kB)\n",
      "Downloading urllib3-2.2.1-py3-none-any.whl (121 kB)\n",
      "   ---------------------------------------- 0.0/121.1 kB ? eta -:--:--\n",
      "   ---------------------------------------- 121.1/121.1 kB ? eta 0:00:00\n",
      "Downloading xyzservices-2024.4.0-py3-none-any.whl (81 kB)\n",
      "   ---------------------------------------- 0.0/82.0 kB ? eta -:--:--\n",
      "   ---------------------------------------- 82.0/82.0 kB 4.8 MB/s eta 0:00:00\n",
      "Downloading zict-3.0.0-py2.py3-none-any.whl (43 kB)\n",
      "   ---------------------------------------- 0.0/43.3 kB ? eta -:--:--\n",
      "   ---------------------------------------- 43.3/43.3 kB ? eta 0:00:00\n",
      "Using cached six-1.16.0-py2.py3-none-any.whl (11 kB)\n",
      "Installing collected packages: sortedcontainers, pytz, zipp, zict, xyzservices, urllib3, tzdata, tornado, toolz, tblib, six, pyyaml, pyarrow-hotfix, psutil, pillow, packaging, numpy, msgpack, MarkupSafe, lz4, locket, fsspec, colorama, cloudpickle, python-dateutil, pyarrow, partd, jinja2, importlib-metadata, contourpy, click, pandas, dask, distributed, dask-expr, bokeh\n"
     ]
    },
    {
     "name": "stderr",
     "output_type": "stream",
     "text": [
      "ERROR: Could not install packages due to an OSError: [WinError 5] Access is denied: '\\\\\\\\Mac\\\\Home\\\\Documents\\\\Data Engineering\\\\Compare Data processing Framework\\\\.venv\\\\Lib\\\\site-packages\\\\tornado\\\\speedups.pyd'\n",
      "Check the permissions.\n",
      "\n"
     ]
    }
   ],
   "source": [
    "%pip install dask[complete]"
   ]
  },
  {
   "cell_type": "code",
   "execution_count": 3,
   "metadata": {},
   "outputs": [
    {
     "name": "stdout",
     "output_type": "stream",
     "text": [
      "Collecting pyspark\n",
      "  Using cached pyspark-3.5.1-py2.py3-none-any.whl\n",
      "Collecting py4j==0.10.9.7 (from pyspark)\n",
      "  Using cached py4j-0.10.9.7-py2.py3-none-any.whl.metadata (1.5 kB)\n",
      "Using cached py4j-0.10.9.7-py2.py3-none-any.whl (200 kB)\n",
      "Installing collected packages: py4j, pyspark\n",
      "Successfully installed py4j pyspark\n",
      "Note: you may need to restart the kernel to use updated packages.\n"
     ]
    }
   ],
   "source": [
    "%pip install pyspark"
   ]
  },
  {
   "cell_type": "code",
   "execution_count": 1,
   "metadata": {},
   "outputs": [
    {
     "name": "stderr",
     "output_type": "stream",
     "text": [
      "Cloning into 'data'...\n",
      "Updating files:  44% (35/78)\n",
      "Updating files:  46% (36/78)\n",
      "Updating files:  47% (37/78)\n",
      "Updating files:  48% (38/78)\n",
      "Updating files:  50% (39/78)\n",
      "Updating files:  51% (40/78)\n",
      "Updating files:  52% (41/78)\n",
      "Updating files:  53% (42/78)\n",
      "Updating files:  55% (43/78)\n",
      "Updating files:  56% (44/78)\n",
      "Updating files:  57% (45/78)\n",
      "Updating files:  58% (46/78)\n",
      "Updating files:  60% (47/78)\n",
      "Updating files:  61% (48/78)\n",
      "Updating files:  62% (49/78)\n",
      "Updating files:  64% (50/78)\n",
      "Updating files:  65% (51/78)\n",
      "Updating files:  66% (52/78)\n",
      "Updating files:  67% (53/78)\n",
      "Updating files:  69% (54/78)\n",
      "Updating files:  70% (55/78)\n",
      "Updating files:  71% (56/78)\n",
      "Updating files:  73% (57/78)\n",
      "Updating files:  74% (58/78)\n",
      "Updating files:  75% (59/78)\n",
      "Updating files:  76% (60/78)\n",
      "Updating files:  78% (61/78)\n",
      "Updating files:  79% (62/78)\n",
      "Updating files:  80% (63/78)\n",
      "Updating files:  82% (64/78)\n",
      "Updating files:  83% (65/78)\n",
      "Updating files:  84% (66/78)\n",
      "Updating files:  85% (67/78)\n",
      "Updating files:  87% (68/78)\n",
      "Updating files:  88% (69/78)\n",
      "Updating files:  89% (70/78)\n",
      "Updating files:  91% (71/78)\n",
      "Updating files:  92% (72/78)\n",
      "Updating files:  93% (73/78)\n",
      "Updating files:  94% (74/78)\n",
      "Updating files:  96% (75/78)\n",
      "Updating files:  97% (76/78)\n",
      "Updating files:  98% (77/78)\n",
      "Updating files: 100% (78/78)\n",
      "Updating files: 100% (78/78), done.\n"
     ]
    }
   ],
   "source": [
    "!git clone https://github.com/dgadiraju/data"
   ]
  },
  {
   "cell_type": "code",
   "execution_count": 2,
   "metadata": {},
   "outputs": [
    {
     "name": "stderr",
     "output_type": "stream",
     "text": [
      "'ls' is not recognized as an internal or external command,\n",
      "operable program or batch file.\n"
     ]
    }
   ],
   "source": [
    "!ls -ltr data/nyse_all/nyse_data/"
   ]
  },
  {
   "cell_type": "code",
   "execution_count": 7,
   "metadata": {},
   "outputs": [
    {
     "data": {
      "text/plain": [
       "9384739"
      ]
     },
     "execution_count": 7,
     "metadata": {},
     "output_type": "execute_result"
    }
   ],
   "source": [
    "#using Pandas\n",
    "\n",
    "import glob\n",
    "import pandas as pd\n",
    "\n",
    "files = glob.glob('data/nyse_all/nyse_data/*') # getting all the files in the folder here\n",
    "rec_count = 0 # creating a counter \n",
    "\n",
    "for file in files: # insisde the files we created on glob this menas all the files that are inside teh folder\n",
    "    df = pd.read_csv( # since files are in txt format we are using read_csv\n",
    "        file, # specifiying the filepath \n",
    "        #since the file doesnt have header, we are specifying the column names\n",
    "        names= ['stock_id', 'trans_date', 'open_price', 'low_price', 'high_price', 'volume']\n",
    "    )\n",
    "    rec_count += df.shape[0]\n",
    "\n",
    "rec_count"
   ]
  },
  {
   "cell_type": "code",
   "execution_count": 1,
   "metadata": {},
   "outputs": [
    {
     "name": "stdout",
     "output_type": "stream",
     "text": [
      "Collecting dask[dataframe]\n",
      "  Using cached dask-2024.5.2-py3-none-any.whl.metadata (3.8 kB)\n",
      "Collecting click>=8.1 (from dask[dataframe])\n",
      "  Using cached click-8.1.7-py3-none-any.whl.metadata (3.0 kB)\n",
      "Collecting cloudpickle>=1.5.0 (from dask[dataframe])\n",
      "  Using cached cloudpickle-3.0.0-py3-none-any.whl.metadata (7.0 kB)\n",
      "Collecting fsspec>=2021.09.0 (from dask[dataframe])\n",
      "  Using cached fsspec-2024.6.0-py3-none-any.whl.metadata (11 kB)\n",
      "Collecting packaging>=20.0 (from dask[dataframe])\n",
      "  Using cached packaging-24.0-py3-none-any.whl.metadata (3.2 kB)\n",
      "Collecting partd>=1.2.0 (from dask[dataframe])\n",
      "  Using cached partd-1.4.2-py3-none-any.whl.metadata (4.6 kB)\n",
      "Collecting pyyaml>=5.3.1 (from dask[dataframe])\n",
      "  Using cached PyYAML-6.0.1-cp39-cp39-win_amd64.whl.metadata (2.1 kB)\n",
      "Collecting toolz>=0.10.0 (from dask[dataframe])\n",
      "  Using cached toolz-0.12.1-py3-none-any.whl.metadata (5.1 kB)\n",
      "Collecting importlib-metadata>=4.13.0 (from dask[dataframe])\n",
      "  Using cached importlib_metadata-7.1.0-py3-none-any.whl.metadata (4.7 kB)\n",
      "Collecting pandas>=1.3 (from dask[dataframe])\n",
      "  Using cached pandas-2.2.2-cp39-cp39-win_amd64.whl.metadata (19 kB)\n",
      "Collecting dask-expr<1.2,>=1.1 (from dask[dataframe])\n",
      "  Using cached dask_expr-1.1.2-py3-none-any.whl.metadata (2.4 kB)\n",
      "Collecting colorama (from click>=8.1->dask[dataframe])\n",
      "  Using cached colorama-0.4.6-py2.py3-none-any.whl.metadata (17 kB)\n",
      "Collecting pyarrow>=7.0.0 (from dask-expr<1.2,>=1.1->dask[dataframe])\n",
      "  Using cached pyarrow-16.1.0-cp39-cp39-win_amd64.whl.metadata (3.1 kB)\n",
      "Collecting zipp>=0.5 (from importlib-metadata>=4.13.0->dask[dataframe])\n",
      "  Using cached zipp-3.19.1-py3-none-any.whl.metadata (3.5 kB)\n",
      "Collecting numpy>=1.22.4 (from pandas>=1.3->dask[dataframe])\n",
      "  Using cached numpy-1.26.4-cp39-cp39-win_amd64.whl.metadata (61 kB)\n",
      "Collecting python-dateutil>=2.8.2 (from pandas>=1.3->dask[dataframe])\n",
      "  Using cached python_dateutil-2.9.0.post0-py2.py3-none-any.whl.metadata (8.4 kB)\n",
      "Collecting pytz>=2020.1 (from pandas>=1.3->dask[dataframe])\n",
      "  Using cached pytz-2024.1-py2.py3-none-any.whl.metadata (22 kB)\n",
      "Collecting tzdata>=2022.7 (from pandas>=1.3->dask[dataframe])\n",
      "  Using cached tzdata-2024.1-py2.py3-none-any.whl.metadata (1.4 kB)\n",
      "Collecting locket (from partd>=1.2.0->dask[dataframe])\n",
      "  Using cached locket-1.0.0-py2.py3-none-any.whl.metadata (2.8 kB)\n",
      "Collecting six>=1.5 (from python-dateutil>=2.8.2->pandas>=1.3->dask[dataframe])\n",
      "  Using cached six-1.16.0-py2.py3-none-any.whl.metadata (1.8 kB)\n",
      "Using cached click-8.1.7-py3-none-any.whl (97 kB)\n",
      "Using cached cloudpickle-3.0.0-py3-none-any.whl (20 kB)\n",
      "Using cached dask_expr-1.1.2-py3-none-any.whl (205 kB)\n",
      "Using cached dask-2024.5.2-py3-none-any.whl (1.2 MB)\n",
      "Using cached fsspec-2024.6.0-py3-none-any.whl (176 kB)\n",
      "Using cached importlib_metadata-7.1.0-py3-none-any.whl (24 kB)\n",
      "Using cached packaging-24.0-py3-none-any.whl (53 kB)\n",
      "Using cached pandas-2.2.2-cp39-cp39-win_amd64.whl (11.6 MB)\n",
      "Using cached partd-1.4.2-py3-none-any.whl (18 kB)\n",
      "Using cached PyYAML-6.0.1-cp39-cp39-win_amd64.whl (152 kB)\n",
      "Using cached toolz-0.12.1-py3-none-any.whl (56 kB)\n",
      "Using cached numpy-1.26.4-cp39-cp39-win_amd64.whl (15.8 MB)\n",
      "Using cached pyarrow-16.1.0-cp39-cp39-win_amd64.whl (25.9 MB)\n",
      "Using cached python_dateutil-2.9.0.post0-py2.py3-none-any.whl (229 kB)\n",
      "Using cached pytz-2024.1-py2.py3-none-any.whl (505 kB)\n",
      "Using cached tzdata-2024.1-py2.py3-none-any.whl (345 kB)\n",
      "Using cached zipp-3.19.1-py3-none-any.whl (9.0 kB)\n",
      "Using cached colorama-0.4.6-py2.py3-none-any.whl (25 kB)\n",
      "Using cached locket-1.0.0-py2.py3-none-any.whl (4.4 kB)\n",
      "Using cached six-1.16.0-py2.py3-none-any.whl (11 kB)\n",
      "Installing collected packages: pytz, zipp, tzdata, toolz, six, pyyaml, packaging, numpy, locket, fsspec, colorama, cloudpickle, python-dateutil, pyarrow, partd, importlib-metadata, click, pandas, dask, dask-expr\n",
      "Successfully installed click cloudpickle colorama dask dask-expr fsspec importlib-metadata locket numpy packaging pandas partd pyarrow python-dateutil pytz pyyaml six toolz tzdata zipp\n",
      "Note: you may need to restart the kernel to use updated packages.\n"
     ]
    }
   ],
   "source": [
    "%pip install dask[dataframe]"
   ]
  },
  {
   "cell_type": "code",
   "execution_count": 1,
   "metadata": {},
   "outputs": [
    {
     "name": "stderr",
     "output_type": "stream",
     "text": [
      "\\\\Mac\\Home\\Documents\\Data Engineering\\Compare Data processing Framework\\.venv\\lib\\site-packages\\dask\\dataframe\\io\\csv.py:555: UserWarning: Warning gzip compression does not support breaking apart files\n",
      "Please ensure that each individual file can fit in memory and\n",
      "use the keyword ``blocksize=None to remove this message``\n",
      "Setting ``blocksize=None``\n",
      "  warn(\n"
     ]
    },
    {
     "data": {
      "text/plain": [
       "9384739"
      ]
     },
     "execution_count": 1,
     "metadata": {},
     "output_type": "execute_result"
    }
   ],
   "source": [
    "#Dask #pandas by default uses on thread to process data, where as dask uses everytin that it has\n",
    "\n",
    "import dask.dataframe as dd\n",
    "\n",
    "df = dd.read_csv(\n",
    "    'data/nyse_all/nyse_data/*', # unlike pandas we dont have to use glob to specify the data, and also we dont have to seperate the logic or use multiprocessing \n",
    "\n",
    "    names = ['stock_id', 'trans_date', 'open_price', 'low_price', 'high_price', 'volume']\n",
    ")\n",
    "\n",
    "df.shape[0].compute()"
   ]
  },
  {
   "cell_type": "code",
   "execution_count": null,
   "metadata": {},
   "outputs": [],
   "source": []
  }
 ],
 "metadata": {
  "kernelspec": {
   "display_name": ".venv",
   "language": "python",
   "name": "python3"
  },
  "language_info": {
   "codemirror_mode": {
    "name": "ipython",
    "version": 3
   },
   "file_extension": ".py",
   "mimetype": "text/x-python",
   "name": "python",
   "nbconvert_exporter": "python",
   "pygments_lexer": "ipython3",
   "version": "3.9.13"
  }
 },
 "nbformat": 4,
 "nbformat_minor": 2
}
