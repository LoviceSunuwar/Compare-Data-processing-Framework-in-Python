{
 "cells": [
  {
   "cell_type": "code",
   "execution_count": 1,
   "metadata": {},
   "outputs": [
    {
     "name": "stdout",
     "output_type": "stream",
     "text": [
      "Collecting pandas\n",
      "  Using cached pandas-2.2.2-cp39-cp39-win_amd64.whl.metadata (19 kB)\n",
      "Collecting numpy>=1.22.4 (from pandas)\n",
      "  Using cached numpy-1.26.4-cp39-cp39-win_amd64.whl.metadata (61 kB)\n",
      "Collecting python-dateutil>=2.8.2 (from pandas)\n",
      "  Using cached python_dateutil-2.9.0.post0-py2.py3-none-any.whl.metadata (8.4 kB)\n",
      "Collecting pytz>=2020.1 (from pandas)\n",
      "  Using cached pytz-2024.1-py2.py3-none-any.whl.metadata (22 kB)\n",
      "Collecting tzdata>=2022.7 (from pandas)\n",
      "  Using cached tzdata-2024.1-py2.py3-none-any.whl.metadata (1.4 kB)\n",
      "Collecting six>=1.5 (from python-dateutil>=2.8.2->pandas)\n",
      "  Using cached six-1.16.0-py2.py3-none-any.whl.metadata (1.8 kB)\n",
      "Using cached pandas-2.2.2-cp39-cp39-win_amd64.whl (11.6 MB)\n",
      "Using cached numpy-1.26.4-cp39-cp39-win_amd64.whl (15.8 MB)\n",
      "Using cached python_dateutil-2.9.0.post0-py2.py3-none-any.whl (229 kB)\n",
      "Using cached pytz-2024.1-py2.py3-none-any.whl (505 kB)\n",
      "Using cached tzdata-2024.1-py2.py3-none-any.whl (345 kB)\n",
      "Using cached six-1.16.0-py2.py3-none-any.whl (11 kB)\n",
      "Installing collected packages: pytz, tzdata, six, numpy, python-dateutil, pandas\n",
      "Successfully installed numpy pandas python-dateutil pytz six tzdata\n",
      "Note: you may need to restart the kernel to use updated packages.\n"
     ]
    }
   ],
   "source": [
    "%pip install pandas"
   ]
  },
  {
   "cell_type": "code",
   "execution_count": 2,
   "metadata": {},
   "outputs": [
    {
     "name": "stdout",
     "output_type": "stream",
     "text": [
      "Note: you may need to restart the kernel to use updated packages.\n"
     ]
    },
    {
     "name": "stderr",
     "output_type": "stream",
     "text": [
      "ERROR: Exception:\n",
      "Traceback (most recent call last):\n",
      "  File \"\\\\Mac\\Home\\Documents\\Data Engineering\\Compare Data processing Framework\\.venv\\lib\\site-packages\\pip\\_vendor\\packaging\\requirements.py\", line 102, in __init__\n",
      "    req = REQUIREMENT.parseString(requirement_string)\n",
      "  File \"\\\\Mac\\Home\\Documents\\Data Engineering\\Compare Data processing Framework\\.venv\\lib\\site-packages\\pip\\_vendor\\pyparsing\\util.py\", line 256, in _inner\n",
      "    return fn(self, *args, **kwargs)\n",
      "  File \"\\\\Mac\\Home\\Documents\\Data Engineering\\Compare Data processing Framework\\.venv\\lib\\site-packages\\pip\\_vendor\\pyparsing\\core.py\", line 1190, in parse_string\n",
      "    raise exc.with_traceback(None)\n",
      "pip._vendor.pyparsing.exceptions.ParseException: Expected string_end, found '['  (at char 11), (line:1, col:12)\n",
      "\n",
      "During handling of the above exception, another exception occurred:\n",
      "\n",
      "Traceback (most recent call last):\n",
      "  File \"\\\\Mac\\Home\\Documents\\Data Engineering\\Compare Data processing Framework\\.venv\\lib\\site-packages\\pip\\_internal\\cli\\base_command.py\", line 180, in exc_logging_wrapper\n",
      "    status = run_func(*args)\n",
      "  File \"\\\\Mac\\Home\\Documents\\Data Engineering\\Compare Data processing Framework\\.venv\\lib\\site-packages\\pip\\_internal\\cli\\req_command.py\", line 245, in wrapper\n",
      "    return func(self, options, args)\n",
      "  File \"\\\\Mac\\Home\\Documents\\Data Engineering\\Compare Data processing Framework\\.venv\\lib\\site-packages\\pip\\_internal\\commands\\install.py\", line 342, in run\n",
      "    reqs = self.get_requirements(args, options, finder, session)\n",
      "  File \"\\\\Mac\\Home\\Documents\\Data Engineering\\Compare Data processing Framework\\.venv\\lib\\site-packages\\pip\\_internal\\cli\\req_command.py\", line 411, in get_requirements\n",
      "    req_to_add = install_req_from_line(\n",
      "  File \"\\\\Mac\\Home\\Documents\\Data Engineering\\Compare Data processing Framework\\.venv\\lib\\site-packages\\pip\\_internal\\req\\constructors.py\", line 421, in install_req_from_line\n",
      "    parts = parse_req_from_line(name, line_source)\n",
      "  File \"\\\\Mac\\Home\\Documents\\Data Engineering\\Compare Data processing Framework\\.venv\\lib\\site-packages\\pip\\_internal\\req\\constructors.py\", line 358, in parse_req_from_line\n",
      "    extras = convert_extras(extras_as_string)\n",
      "  File \"\\\\Mac\\Home\\Documents\\Data Engineering\\Compare Data processing Framework\\.venv\\lib\\site-packages\\pip\\_internal\\req\\constructors.py\", line 58, in convert_extras\n",
      "    return get_requirement(\"placeholder\" + extras.lower()).extras\n",
      "  File \"\\\\Mac\\Home\\Documents\\Data Engineering\\Compare Data processing Framework\\.venv\\lib\\site-packages\\pip\\_internal\\utils\\packaging.py\", line 45, in get_requirement\n",
      "    return Requirement(req_string)\n",
      "  File \"\\\\Mac\\Home\\Documents\\Data Engineering\\Compare Data processing Framework\\.venv\\lib\\site-packages\\pip\\_vendor\\packaging\\requirements.py\", line 104, in __init__\n",
      "    raise InvalidRequirement(\n",
      "pip._vendor.packaging.requirements.InvalidRequirement: Parse error at \"'[complet'\": Expected string_end\n"
     ]
    }
   ],
   "source": [
    "%pip install dask\\[complete\\]"
   ]
  },
  {
   "cell_type": "code",
   "execution_count": 3,
   "metadata": {},
   "outputs": [
    {
     "name": "stdout",
     "output_type": "stream",
     "text": [
      "Collecting pyspark\n",
      "  Using cached pyspark-3.5.1-py2.py3-none-any.whl\n",
      "Collecting py4j==0.10.9.7 (from pyspark)\n",
      "  Using cached py4j-0.10.9.7-py2.py3-none-any.whl.metadata (1.5 kB)\n",
      "Using cached py4j-0.10.9.7-py2.py3-none-any.whl (200 kB)\n",
      "Installing collected packages: py4j, pyspark\n",
      "Successfully installed py4j pyspark\n",
      "Note: you may need to restart the kernel to use updated packages.\n"
     ]
    }
   ],
   "source": [
    "%pip install pyspark"
   ]
  },
  {
   "cell_type": "code",
   "execution_count": null,
   "metadata": {},
   "outputs": [],
   "source": []
  }
 ],
 "metadata": {
  "kernelspec": {
   "display_name": ".venv",
   "language": "python",
   "name": "python3"
  },
  "language_info": {
   "codemirror_mode": {
    "name": "ipython",
    "version": 3
   },
   "file_extension": ".py",
   "mimetype": "text/x-python",
   "name": "python",
   "nbconvert_exporter": "python",
   "pygments_lexer": "ipython3",
   "version": "3.9.13"
  }
 },
 "nbformat": 4,
 "nbformat_minor": 2
}
